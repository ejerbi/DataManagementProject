{
  "cells": [
    {
      "cell_type": "markdown",
      "id": "ALIBWb650Lme",
      "metadata": {
        "id": "ALIBWb650Lme"
      },
      "source": [
        "# Notebook Data management"
      ]
    },
    {
      "cell_type": "markdown",
      "id": "cgcyGOqLz-Us",
      "metadata": {
        "id": "cgcyGOqLz-Us"
      },
      "source": [
        "## Importation des librairies nécessaires"
      ]
    },
    {
      "cell_type": "code",
      "execution_count": 220,
      "id": "e3b75b69",
      "metadata": {
        "colab": {
          "base_uri": "https://localhost:8080/"
        },
        "id": "e3b75b69",
        "outputId": "00b02b82-57df-4823-b0cd-aebd6ee73fe6"
      },
      "outputs": [
        {
          "name": "stdout",
          "output_type": "stream",
          "text": [
            "Requirement already satisfied: unidecode in /usr/local/lib/python3.10/dist-packages (1.3.8)\n"
          ]
        }
      ],
      "source": [
        "!pip install unidecode\n",
        "import pandas as pd\n",
        "import numpy as np\n",
        "import matplotlib.pyplot as plt\n",
        "import seaborn as sns\n",
        "import plotly.express as px\n",
        "from unidecode import unidecode\n",
        "import string\n",
        "import nltk\n",
        "from nltk.corpus import stopwords\n",
        "import re\n"
      ]
    },
    {
      "cell_type": "markdown",
      "id": "c76OJOzK0JBQ",
      "metadata": {
        "id": "c76OJOzK0JBQ"
      },
      "source": [
        "## Importation de la base de donnée"
      ]
    },
    {
      "cell_type": "code",
      "execution_count": 221,
      "id": "23f25b00",
      "metadata": {
        "colab": {
          "base_uri": "https://localhost:8080/"
        },
        "id": "23f25b00",
        "outputId": "6265441a-b241-497d-a300-5c8db5ff2fcb"
      },
      "outputs": [
        {
          "name": "stderr",
          "output_type": "stream",
          "text": [
            "<ipython-input-221-24e9c399df9c>:2: DtypeWarning: Columns (6,19,20) have mixed types. Specify dtype option on import or set low_memory=False.\n",
            "  data = pd.read_csv(\"/content/stationnement-sur-voie-publique-stationnement-interdit.csv\", sep=';' ,on_bad_lines='skip',quoting=3)\n"
          ]
        }
      ],
      "source": [
        "#importation de la base de données\n",
        "data = pd.read_csv(\"/content/stationnement-sur-voie-publique-stationnement-interdit.csv\", sep=';' ,on_bad_lines='skip',quoting=3)\n"
      ]
    },
    {
      "cell_type": "markdown",
      "id": "2bcbfa4e",
      "metadata": {
        "id": "2bcbfa4e"
      },
      "source": [
        "## 1 Nettoyage de la base de données"
      ]
    },
    {
      "cell_type": "code",
      "execution_count": 222,
      "id": "0158dbed",
      "metadata": {
        "colab": {
          "base_uri": "https://localhost:8080/"
        },
        "id": "0158dbed",
        "outputId": "fe857da4-2fc4-4ece-99a6-132080004581"
      },
      "outputs": [
        {
          "name": "stdout",
          "output_type": "stream",
          "text": [
            "Après nettoyage: Index(['nouvel_identifiant', 'ancien_identifiant', 'regime_prioritaire',\n",
            "       'regime_particulier', 'arrondissement', 'zone_residentielle',\n",
            "       'tarification', 'type_de_voie', 'nom_de_la_voie', 'parite', 'longueur',\n",
            "       'longueur_calculee', 'signalisation_horizontale',\n",
            "       'signalisation_verticale', 'conformite_signalisation',\n",
            "       'plage_horaire_1-debut', 'plage_horaire_1-fin', 'plage_horaire_2-debut',\n",
            "       'plage_horaire_2-fin', 'plage_horaire_3-debut', 'plage_horaire_3-fin',\n",
            "       'date_du_releve', 'derniere_date_edition', 'code_voie_ville_de_paris',\n",
            "       'numero_sequentiel_troncon_voie', 'numero_ilot', 'numero_iris',\n",
            "       'zone_asp', 'numero_section_territoriale_de_voirie', 'zone_prefecture',\n",
            "       '1er_numero_troncon_voie', 'dernier_numero_troncon_voie', 'geo_shape',\n",
            "       'geo_point_2d'],\n",
            "      dtype='object')\n"
          ]
        }
      ],
      "source": [
        "#Standardisation des noms de colonnes\n",
        "\n",
        "data.columns = [unidecode(col) for col in data.columns]\n",
        "data.columns = data.columns.str.strip().str.replace(' ', '_')\n",
        "data.columns = data.columns.str.lower()\n",
        "\n",
        "print(\"Après nettoyage:\", data.columns)\n"
      ]
    },
    {
      "cell_type": "code",
      "execution_count": 223,
      "id": "33cd3120",
      "metadata": {
        "colab": {
          "base_uri": "https://localhost:8080/"
        },
        "id": "33cd3120",
        "outputId": "53def2f8-926d-4c9d-d633-9cbb705f5418"
      },
      "outputs": [
        {
          "name": "stdout",
          "output_type": "stream",
          "text": [
            "la base de données est composée de 1091114 lignes et 34 colonnes.\n"
          ]
        }
      ],
      "source": [
        "#Affichage de la taille de notre base de données\n",
        "print(f\"la base de données est composée de {data.shape[0]} lignes et {data.shape[1]} colonnes.\")"
      ]
    },
    {
      "cell_type": "markdown",
      "id": "37dmDy8j1oko",
      "metadata": {
        "id": "37dmDy8j1oko"
      },
      "source": [
        "## Suppression des colonnes totalement vides\n"
      ]
    },
    {
      "cell_type": "code",
      "execution_count": 224,
      "id": "358d389e",
      "metadata": {
        "id": "358d389e"
      },
      "outputs": [],
      "source": [
        "data.dropna(axis=1,how = \"all\", inplace =True,)"
      ]
    },
    {
      "cell_type": "code",
      "execution_count": 225,
      "id": "cb92b3cf",
      "metadata": {
        "colab": {
          "base_uri": "https://localhost:8080/"
        },
        "id": "cb92b3cf",
        "outputId": "9109af19-34d9-425b-a105-3adc276a010c"
      },
      "outputs": [
        {
          "data": {
            "text/plain": [
              "(1091114, 31)"
            ]
          },
          "execution_count": 225,
          "metadata": {},
          "output_type": "execute_result"
        }
      ],
      "source": [
        "data.shape"
      ]
    },
    {
      "cell_type": "code",
      "execution_count": 226,
      "id": "a31e92cd",
      "metadata": {
        "colab": {
          "base_uri": "https://localhost:8080/"
        },
        "id": "a31e92cd",
        "outputId": "347d3d50-b0ad-473c-d0bf-27a0b0017ed4"
      },
      "outputs": [
        {
          "name": "stdout",
          "output_type": "stream",
          "text": [
            "nouvel_identifiant                         11816\n",
            "ancien_identifiant                       1079298\n",
            "regime_prioritaire                             0\n",
            "regime_particulier                             0\n",
            "arrondissement                              1484\n",
            "zone_residentielle                          1484\n",
            "tarification                                1484\n",
            "type_de_voie                                   0\n",
            "nom_de_la_voie                                 0\n",
            "parite                                       640\n",
            "longueur                                       0\n",
            "longueur_calculee                              0\n",
            "signalisation_horizontale                      0\n",
            "signalisation_verticale                        0\n",
            "conformite_signalisation                       0\n",
            "plage_horaire_1-debut                    1070061\n",
            "plage_horaire_1-fin                      1070061\n",
            "plage_horaire_2-debut                    1071009\n",
            "plage_horaire_2-fin                      1071009\n",
            "plage_horaire_3-debut                    1091112\n",
            "plage_horaire_3-fin                      1091009\n",
            "date_du_releve                                 0\n",
            "derniere_date_edition                          0\n",
            "code_voie_ville_de_paris                       0\n",
            "numero_sequentiel_troncon_voie                 0\n",
            "zone_asp                                   11754\n",
            "numero_section_territoriale_de_voirie       1484\n",
            "1er_numero_troncon_voie                        0\n",
            "dernier_numero_troncon_voie                    0\n",
            "geo_shape                                      0\n",
            "geo_point_2d                                   0\n",
            "dtype: int64\n"
          ]
        }
      ],
      "source": [
        "#Vérification des valeurs manquantes\n",
        "print(data.isnull().sum())"
      ]
    },
    {
      "cell_type": "markdown",
      "id": "5ONO1UlT0iVY",
      "metadata": {
        "id": "5ONO1UlT0iVY"
      },
      "source": [
        "## Suppression des colonnes avec les valeurs manquantes à plus  de 90%\n"
      ]
    },
    {
      "cell_type": "code",
      "execution_count": 227,
      "id": "61cd7fa8",
      "metadata": {
        "id": "61cd7fa8"
      },
      "outputs": [],
      "source": [
        "liste = [\"ancien_identifiant\",\"plage_horaire_1-debut\",\"plage_horaire_1-fin\",\"plage_horaire_2-debut\",\n",
        "         \"plage_horaire_2-fin\",\"plage_horaire_3-debut\",\"plage_horaire_3-fin\"]\n",
        "data.drop(columns = liste, inplace =True)"
      ]
    },
    {
      "cell_type": "markdown",
      "id": "1df8v9DY110H",
      "metadata": {
        "id": "1df8v9DY110H"
      },
      "source": [
        "## On supprime les lignes qui contiennent des valeurs manquantes et on réinitialise les index"
      ]
    },
    {
      "cell_type": "code",
      "execution_count": 228,
      "id": "jQMAg7Zr15Yx",
      "metadata": {
        "id": "jQMAg7Zr15Yx"
      },
      "outputs": [],
      "source": [
        "data = data.dropna().reset_index(drop=True)"
      ]
    },
    {
      "cell_type": "markdown",
      "id": "E6mynTVV0x9d",
      "metadata": {
        "id": "E6mynTVV0x9d"
      },
      "source": [
        "## Suppresion des colonnes qu'on a jugé non intéressantes\n"
      ]
    },
    {
      "cell_type": "code",
      "execution_count": 229,
      "id": "45f6311c",
      "metadata": {
        "id": "45f6311c"
      },
      "outputs": [],
      "source": [
        "liste = [\"zone_residentielle\",\"nom_de_la_voie\",\"parite\",\"longueur\",\"longueur_calculee\",\"signalisation_horizontale\",\n",
        "         \"1er_numero_troncon_voie\",\"dernier_numero_troncon_voie\",\"geo_shape\", \"zone_asp\",\"numero_section_territoriale_de_voirie\",\n",
        "         \"numero_sequentiel_troncon_voie\", \"signalisation_verticale\", \"code_voie_ville_de_paris\", \"derniere_date_edition\"]\n",
        "data.drop(columns = liste, inplace =True)"
      ]
    },
    {
      "cell_type": "markdown",
      "id": "wY7UczLM2QJR",
      "metadata": {
        "id": "wY7UczLM2QJR"
      },
      "source": [
        "# Analyse appronfondie de la base de donnée"
      ]
    },
    {
      "cell_type": "markdown",
      "id": "uxoLBPc51JZn",
      "metadata": {
        "id": "uxoLBPc51JZn"
      },
      "source": [
        "## Detection des valeurs aberrates dans les colonnes\n"
      ]
    },
    {
      "cell_type": "code",
      "execution_count": 230,
      "id": "xWrXAAM83AU9",
      "metadata": {
        "colab": {
          "base_uri": "https://localhost:8080/"
        },
        "id": "xWrXAAM83AU9",
        "outputId": "ea2d2233-5fd8-4b50-a149-d266d6586a8c"
      },
      "outputs": [
        {
          "data": {
            "text/plain": [
              "array(['Stationnement gênant', 'Stationnement simple', 'Arrêt Pompiers',\n",
              "       'Arrêt gênant divers', 'Arrêt simple',\n",
              "       'Arrêt vigipirate pérennisé', 'Arrêt vigipirate non pérennisé',\n",
              "       'Livraison BUS', 'rien'], dtype=object)"
            ]
          },
          "execution_count": 230,
          "metadata": {},
          "output_type": "execute_result"
        }
      ],
      "source": [
        "data[\"regime_particulier\"].unique()"
      ]
    },
    {
      "cell_type": "code",
      "execution_count": 231,
      "id": "7CVURf7N29Bz",
      "metadata": {
        "colab": {
          "base_uri": "https://localhost:8080/"
        },
        "id": "7CVURf7N29Bz",
        "outputId": "dea3ee51-1a31-46a2-b26d-87c1fbb4ea14"
      },
      "outputs": [
        {
          "data": {
            "text/plain": [
              "array(['INTERDIT', 'LIVRAISON BUS'], dtype=object)"
            ]
          },
          "execution_count": 231,
          "metadata": {},
          "output_type": "execute_result"
        }
      ],
      "source": [
        "data[\"regime_prioritaire\"].unique()"
      ]
    },
    {
      "cell_type": "code",
      "execution_count": 232,
      "id": "ZH4doqBYnjHU",
      "metadata": {
        "colab": {
          "base_uri": "https://localhost:8080/"
        },
        "id": "ZH4doqBYnjHU",
        "outputId": "b4c17749-adcb-4e69-b877-25b336b4d4e9"
      },
      "outputs": [
        {
          "data": {
            "text/plain": [
              "array([15., 19., 10., 14., 13., 17.,  4.,  9., 18., 20.,  7., 11.,  5.,\n",
              "       12.,  6.,  2., 16.,  8.,  3., 21.,  1., 22., -1.])"
            ]
          },
          "execution_count": 232,
          "metadata": {},
          "output_type": "execute_result"
        }
      ],
      "source": [
        "#détection des fausses information dans la colonne arrondissement\n",
        "data[\"arrondissement\"].unique()"
      ]
    },
    {
      "cell_type": "code",
      "execution_count": 233,
      "id": "0f87bc74",
      "metadata": {
        "colab": {
          "base_uri": "https://localhost:8080/"
        },
        "id": "0f87bc74",
        "outputId": "c4180003-9967-40f3-8f34-82c6dd4d778d"
      },
      "outputs": [
        {
          "data": {
            "text/plain": [
              "array(['01', '02', '2', '1', 'Bois', 'NR', 2.0, 1.0], dtype=object)"
            ]
          },
          "execution_count": 233,
          "metadata": {},
          "output_type": "execute_result"
        }
      ],
      "source": [
        "data[\"tarification\"].unique()"
      ]
    },
    {
      "cell_type": "code",
      "execution_count": 234,
      "id": "9fd2a82b",
      "metadata": {
        "id": "9fd2a82b"
      },
      "outputs": [],
      "source": [
        "#caster les colonnes arrondissement et tarification en entier\n",
        "data[\"arrondissement\"] = data[\"arrondissement\"].astype(\"Int64\")\n",
        "data[\"tarification\"] = pd.to_numeric(data[\"tarification\"], errors=\"coerce\").astype(\"Int64\")"
      ]
    },
    {
      "cell_type": "code",
      "execution_count": 235,
      "id": "sD3tv1DWiLAL",
      "metadata": {
        "colab": {
          "base_uri": "https://localhost:8080/"
        },
        "id": "sD3tv1DWiLAL",
        "outputId": "9bfd7f13-c935-46d2-ce09-d79e9c91acc8"
      },
      "outputs": [
        {
          "data": {
            "text/plain": [
              "<IntegerArray>\n",
              "[1, 2, <NA>]\n",
              "Length: 3, dtype: Int64"
            ]
          },
          "execution_count": 235,
          "metadata": {},
          "output_type": "execute_result"
        }
      ],
      "source": [
        "data[\"tarification\"].unique()"
      ]
    },
    {
      "cell_type": "code",
      "execution_count": 236,
      "id": "D_2uV4MBnWa0",
      "metadata": {
        "colab": {
          "base_uri": "https://localhost:8080/"
        },
        "id": "D_2uV4MBnWa0",
        "outputId": "6e570b0e-1b67-4a92-bd8b-8d486987e5cd"
      },
      "outputs": [
        {
          "data": {
            "text/plain": [
              "array(['SV Non-conforme', 'Conforme', 'Non conforme', 'SH Non-conforme'],\n",
              "      dtype=object)"
            ]
          },
          "execution_count": 236,
          "metadata": {},
          "output_type": "execute_result"
        }
      ],
      "source": [
        "#Vérification de la colonne conformite_signalisation\n",
        "data[\"conformite_signalisation\"].unique()"
      ]
    },
    {
      "cell_type": "code",
      "execution_count": 237,
      "id": "K18nZapU2sJm",
      "metadata": {
        "colab": {
          "base_uri": "https://localhost:8080/"
        },
        "id": "K18nZapU2sJm",
        "outputId": "d164877e-cb44-4a09-b595-a7fd91fca543"
      },
      "outputs": [
        {
          "data": {
            "text/plain": [
              "array(['BD DES', 'AV DE', \"RUE D'\", 'RUE DES', 'AV DE LA', 'RUE DU',\n",
              "       'RUE', 'SQ', 'IMP DE', 'AV', 'PL DE', 'BD DE', 'RUE DE',\n",
              "       \"RUE DE L'\", 'AV DES', \"IMP D'\", 'AV DU', 'RTE DES', 'QU',\n",
              "       'PL DE LA', 'RPT DES', 'QU DE', 'RUE DE LA', 'BD', 'PL', 'PAS',\n",
              "       \"PL DE L'\", 'VLA', 'ALL DU', 'RTE DU', 'PORT DE', 'RTE DE',\n",
              "       'CAR DE', 'RTE DE LA', 'PL DU', 'PL DES', 'IMP', 'PAS DU',\n",
              "       'PAS DE LA', \"PL D'\", \"AV DE L'\", 'ALL DE LA', 'QU DE LA', \"QU D'\",\n",
              "       'VOIE', 'ALL DE', 'CAR DE LA', 'RTE', \"CAR DE L'\", 'CRS LA',\n",
              "       \"AV D'\", \"QU DE L'\", 'CITE', 'CRS DES', 'QU AUX', 'ALL DES',\n",
              "       'BD DE LA', 'CITE DU', 'CHEM DE', 'CHEM DE LA', 'CITE DE LA',\n",
              "       'BD DU', 'COUR', 'RUE AU', 'SEN DES', \"PAS DE L'\", 'CITE DES',\n",
              "       'IMP DES', 'CITE DE', 'ALL', \"PONT D'\", 'SOUT', 'PAS DE', 'PONT',\n",
              "       'QU DES', \"CITE D'\", \"BD D'\", 'SQ DE', \"BD DE L'\", 'CRS DE', 'CRS',\n",
              "       \"IMP DE L'\", 'CHEM DU', 'SENT', 'CAR DES', 'VLA DE', \"RTE D'\",\n",
              "       'IMP DU', 'ECH', 'IMP DE LA', 'CAR DU', 'PONT DE LA', 'PAS DES',\n",
              "       'VLA DU', 'COUR DU', 'PONT DE', 'PARV DU', 'PORT DU', \"VLA D'\",\n",
              "       'HAM DE', \"RTE DE L'\", 'VLA DES', 'CHAU DE LA', 'COUR DE LA',\n",
              "       'PONT DU', 'SENT DE', \"PONT DE L'\", \"CHEM DE L'\", 'GRIL DE', 'PRT',\n",
              "       'ESPL'], dtype=object)"
            ]
          },
          "execution_count": 237,
          "metadata": {},
          "output_type": "execute_result"
        }
      ],
      "source": [
        "data[\"type_de_voie\"].unique()"
      ]
    },
    {
      "cell_type": "code",
      "execution_count": 238,
      "id": "9eb35d18",
      "metadata": {
        "id": "9eb35d18"
      },
      "outputs": [],
      "source": [
        "data[\"nouvel_identifiant\"] = data[\"nouvel_identifiant\"].astype(\"Int64\")"
      ]
    },
    {
      "cell_type": "code",
      "execution_count": 239,
      "id": "9ab3791d",
      "metadata": {
        "id": "9ab3791d"
      },
      "outputs": [],
      "source": [
        "#Conversion date du releve en datetime\n",
        "data[\"date_du_releve\"] = pd.to_datetime(data[\"date_du_releve\"], format=\"%Y-%m-%d\", errors=\"coerce\")"
      ]
    },
    {
      "cell_type": "markdown",
      "id": "sWXzxnePn9ry",
      "metadata": {
        "id": "sWXzxnePn9ry"
      },
      "source": [
        "## Suppression des valeurs aberrantes"
      ]
    },
    {
      "cell_type": "code",
      "execution_count": 240,
      "id": "HzSXa6IHn8dR",
      "metadata": {
        "id": "HzSXa6IHn8dR"
      },
      "outputs": [],
      "source": [
        "#suppression de l'arrondissement -1, 21 et 22 car le arrondissement n'existe pas\n",
        "data = data[data[\"arrondissement\"] != 21]\n",
        "data = data[data[\"arrondissement\"] != 22]\n",
        "data = data[data[\"arrondissement\"] != -1]"
      ]
    },
    {
      "cell_type": "code",
      "execution_count": 241,
      "id": "31da6357",
      "metadata": {
        "colab": {
          "base_uri": "https://localhost:8080/"
        },
        "id": "31da6357",
        "outputId": "15b3c75e-a407-411f-eeac-66568d3cfa2f"
      },
      "outputs": [
        {
          "data": {
            "text/plain": [
              "array([2021, 2022, 2020, 2023, 2018, 2024, 2017, 2016, 2004, 1970, 2019,\n",
              "       2015], dtype=int32)"
            ]
          },
          "execution_count": 241,
          "metadata": {},
          "output_type": "execute_result"
        }
      ],
      "source": [
        "#verification des années dans le dataframe\n",
        "data[\"date_du_releve\"].dt.year.unique()"
      ]
    },
    {
      "cell_type": "code",
      "execution_count": 242,
      "id": "7f3d3a81",
      "metadata": {
        "colab": {
          "base_uri": "https://localhost:8080/"
        },
        "id": "7f3d3a81",
        "outputId": "c49baaf5-e9c0-4007-a41c-12758e5fa205"
      },
      "outputs": [
        {
          "data": {
            "text/plain": [
              "(825, 9)"
            ]
          },
          "execution_count": 242,
          "metadata": {},
          "output_type": "execute_result"
        }
      ],
      "source": [
        "#Affichage des infraction pour l'année 1970\n",
        "data.loc[data[\"date_du_releve\"].dt.year==1970,:].shape"
      ]
    },
    {
      "cell_type": "code",
      "execution_count": 243,
      "id": "EvTHsqE7ewEv",
      "metadata": {
        "colab": {
          "base_uri": "https://localhost:8080/"
        },
        "id": "EvTHsqE7ewEv",
        "outputId": "96aaffb3-2ddc-4740-ab23-8a94b9235efb"
      },
      "outputs": [
        {
          "data": {
            "text/plain": [
              "(104, 9)"
            ]
          },
          "execution_count": 243,
          "metadata": {},
          "output_type": "execute_result"
        }
      ],
      "source": [
        "data.loc[data[\"date_du_releve\"].dt.year==2004,:].shape"
      ]
    },
    {
      "cell_type": "code",
      "execution_count": 244,
      "id": "xNHOcjs8g2Oh",
      "metadata": {
        "colab": {
          "base_uri": "https://localhost:8080/"
        },
        "id": "xNHOcjs8g2Oh",
        "outputId": "82cbe274-9fb6-49ab-f106-99a4d8991650"
      },
      "outputs": [
        {
          "data": {
            "text/plain": [
              "(0, 9)"
            ]
          },
          "execution_count": 244,
          "metadata": {},
          "output_type": "execute_result"
        }
      ],
      "source": [
        "data.loc[data[\"date_du_releve\"].dt.year==1995,:].shape"
      ]
    },
    {
      "cell_type": "markdown",
      "id": "KcmYecW5e3sr",
      "metadata": {
        "id": "KcmYecW5e3sr"
      },
      "source": [
        "## On remarque qu'on n'a pas trop de donnée pour l'année 1995, 1970 et 2004, ce qui nous motive à travailler sur les année restantes comme elles se suivent"
      ]
    },
    {
      "cell_type": "code",
      "execution_count": 245,
      "id": "f7bf33ba",
      "metadata": {
        "id": "f7bf33ba"
      },
      "outputs": [],
      "source": [
        "#Liste des années sur les quelles on va faire nos analyses\n",
        "liste_annee = [2016,2017,2018,2019,2020,2021,2022,2023,2024] #on préfére travailler sur les données les plus récentes"
      ]
    },
    {
      "cell_type": "code",
      "execution_count": 246,
      "id": "4034cbbe",
      "metadata": {
        "id": "4034cbbe"
      },
      "outputs": [],
      "source": [
        "#Création de la dataframe avec les années sélectionnée\n",
        "data = data.loc[data[\"date_du_releve\"].dt.year.isin (liste_annee),:]"
      ]
    },
    {
      "cell_type": "markdown",
      "id": "ttxjBtnSmppg",
      "metadata": {
        "id": "ttxjBtnSmppg"
      },
      "source": [
        "## Vérification des doublons\n"
      ]
    },
    {
      "cell_type": "code",
      "execution_count": 247,
      "id": "ab512b2a",
      "metadata": {
        "colab": {
          "base_uri": "https://localhost:8080/"
        },
        "id": "ab512b2a",
        "outputId": "4a3b234c-b84a-4467-b2e9-c86c8bdd74ac"
      },
      "outputs": [
        {
          "name": "stdout",
          "output_type": "stream",
          "text": [
            "True     863339\n",
            "False    203036\n",
            "Name: count, dtype: int64\n"
          ]
        }
      ],
      "source": [
        "print(data.duplicated().value_counts())"
      ]
    },
    {
      "cell_type": "markdown",
      "id": "yB-t4EgUmtgp",
      "metadata": {
        "id": "yB-t4EgUmtgp"
      },
      "source": [
        "## Localisation des doublons\n"
      ]
    },
    {
      "cell_type": "code",
      "execution_count": 248,
      "id": "88c722d7",
      "metadata": {
        "colab": {
          "base_uri": "https://localhost:8080/"
        },
        "id": "88c722d7",
        "outputId": "8ff41af7-94c5-4a94-dcd2-63925ffcd038"
      },
      "outputs": [
        {
          "name": "stdout",
          "output_type": "stream",
          "text": [
            "        nouvel_identifiant regime_prioritaire    regime_particulier  \\\n",
            "265068                  11           INTERDIT  Stationnement gênant   \n",
            "358326                  11           INTERDIT  Stationnement gênant   \n",
            "362259                  11           INTERDIT  Stationnement gênant   \n",
            "364092                  11           INTERDIT  Stationnement gênant   \n",
            "358319                  11           INTERDIT  Stationnement gênant   \n",
            "...                    ...                ...                   ...   \n",
            "384829               13955           INTERDIT  Stationnement gênant   \n",
            "384823               13955           INTERDIT  Stationnement gênant   \n",
            "443415               13955           INTERDIT  Stationnement gênant   \n",
            "567561               13955           INTERDIT  Stationnement gênant   \n",
            "347571               13955           INTERDIT  Stationnement gênant   \n",
            "\n",
            "        arrondissement  tarification type_de_voie conformite_signalisation  \\\n",
            "265068              14             2      SENT DE                 Conforme   \n",
            "358326              20             2      SENT DE                 Conforme   \n",
            "362259              16             1      SENT DE                 Conforme   \n",
            "364092              13             1      SENT DE                 Conforme   \n",
            "358319              20             2      SENT DE                 Conforme   \n",
            "...                ...           ...          ...                      ...   \n",
            "384829               3             2       RUE DE                 Conforme   \n",
            "384823              11             2       RUE DE                 Conforme   \n",
            "443415              11             2       RUE DE                 Conforme   \n",
            "567561              18             1       RUE DE                 Conforme   \n",
            "347571              15             1       RUE DE                 Conforme   \n",
            "\n",
            "       date_du_releve                           geo_point_2d  \n",
            "265068     2020-08-31   48.84029517538814, 2.401590676758553  \n",
            "358326     2020-08-31   48.84029517538814, 2.401590676758553  \n",
            "362259     2020-08-31   48.84029517538814, 2.401590676758553  \n",
            "364092     2020-08-31   48.84029517538814, 2.401590676758553  \n",
            "358319     2020-08-31   48.84029517538814, 2.401590676758553  \n",
            "...               ...                                    ...  \n",
            "384829     2022-08-11  48.84880314978486, 2.3511666210094253  \n",
            "384823     2022-08-11  48.84880314978486, 2.3511666210094253  \n",
            "443415     2022-08-11  48.84880314978486, 2.3511666210094253  \n",
            "567561     2022-08-11  48.84880314978486, 2.3511666210094253  \n",
            "347571     2022-08-11  48.84880314978486, 2.3511666210094253  \n",
            "\n",
            "[863339 rows x 9 columns]\n"
          ]
        }
      ],
      "source": [
        "print(data.loc[data.duplicated(),:].sort_values(by=[\"nouvel_identifiant\"]))"
      ]
    },
    {
      "cell_type": "markdown",
      "id": "8d8ad9e5",
      "metadata": {
        "id": "8d8ad9e5"
      },
      "source": [
        "Les doublons correspondent aux infractions effectuées par la même personne le même jour, mais à des localisations différentes. Par conséquent, ce sont des infractions distinctes que nous ne supprimerons pas."
      ]
    },
    {
      "cell_type": "markdown",
      "id": "Ru3J6SSFoOhB",
      "metadata": {
        "id": "Ru3J6SSFoOhB"
      },
      "source": [
        "## Creation de nouvelles colonnes à partirs des existantes"
      ]
    },
    {
      "cell_type": "code",
      "execution_count": 249,
      "id": "4f148c1e",
      "metadata": {
        "id": "4f148c1e"
      },
      "outputs": [],
      "source": [
        "#Création de la colonne année qui affiche l'annee de chaque infraction\n",
        "data[\"annee\"] = data[\"date_du_releve\"].dt.year"
      ]
    },
    {
      "cell_type": "code",
      "execution_count": 250,
      "id": "e1d54c9c",
      "metadata": {
        "id": "e1d54c9c"
      },
      "outputs": [],
      "source": [
        "#Création de la colonne \"saison\" qui affiche la saison pour chaque infraction\n",
        "data[\"saison\"] = data[\"date_du_releve\"].apply(\n",
        "    lambda x: (\n",
        "        \"été\" if x.month in [6, 7, 8] else\n",
        "        \"automne\" if x.month in [9, 10, 11] else\n",
        "        \"hiver\" if x.month in [12, 1, 2] else\n",
        "        \"printemps\"\n",
        "    )\n",
        "    if pd.notnull(x) else None\n",
        ")\n"
      ]
    },
    {
      "cell_type": "code",
      "execution_count": 251,
      "id": "j3ieiLOZoaA-",
      "metadata": {
        "id": "j3ieiLOZoaA-"
      },
      "outputs": [],
      "source": [
        "#Creation de la colonne \"vacances\" qui est égales à 1 en periode de vacances et 0 sinon\n",
        "data['vacances'] = data['date_du_releve'].apply(lambda x: 1 if x.month in [7, 8, 12] else 0)"
      ]
    },
    {
      "cell_type": "markdown",
      "id": "bpoXvH9XqB_W",
      "metadata": {
        "id": "bpoXvH9XqB_W"
      },
      "source": [
        "## Distribution temporelle : Analyser les infractions par  mois et année pour identifier des tendances temporelles."
      ]
    },
    {
      "cell_type": "code",
      "execution_count": 252,
      "id": "4b49efd4",
      "metadata": {
        "id": "4b49efd4"
      },
      "outputs": [],
      "source": [
        "data = data.set_index(\"date_du_releve\")"
      ]
    },
    {
      "cell_type": "code",
      "execution_count": 261,
      "id": "3d8e1717",
      "metadata": {
        "id": "3d8e1717"
      },
      "outputs": [],
      "source": [
        "#Creation de data_mois qui  affiche les infractions par mois\n",
        "data_mois = data.resample(\"ME\")[\"nouvel_identifiant\"].count().reset_index()\n"
      ]
    },
    {
      "cell_type": "code",
      "execution_count": 262,
      "id": "bd6455dc",
      "metadata": {
        "id": "bd6455dc"
      },
      "outputs": [],
      "source": [
        "#Création de data_anneé qui affiche les infractions par année\n",
        "data_annee = data.resample(\"YE\")[\"nouvel_identifiant\"].count().reset_index()\n"
      ]
    },
    {
      "cell_type": "code",
      "execution_count": 255,
      "id": "7T3zAYrv-P2j",
      "metadata": {
        "colab": {
          "base_uri": "https://localhost:8080/"
        },
        "id": "7T3zAYrv-P2j",
        "outputId": "44073a89-5ada-4b65-a62d-cd5859588153"
      },
      "outputs": [
        {
          "name": "stdout",
          "output_type": "stream",
          "text": [
            "Index(['nouvel_identifiant', 'regime_prioritaire', 'regime_particulier',\n",
            "       'arrondissement', 'tarification', 'type_de_voie',\n",
            "       'conformite_signalisation', 'geo_point_2d', 'annee', 'saison',\n",
            "       'vacances'],\n",
            "      dtype='object')\n"
          ]
        }
      ],
      "source": [
        "print(data.columns)"
      ]
    },
    {
      "cell_type": "markdown",
      "id": "ARjyNEHcvUjb",
      "metadata": {
        "id": "ARjyNEHcvUjb"
      },
      "source": [
        "## Exportation de la base de donnée en fichier CSV"
      ]
    },
    {
      "cell_type": "code",
      "execution_count": 256,
      "id": "c7ba537c",
      "metadata": {
        "id": "c7ba537c"
      },
      "outputs": [],
      "source": [
        "data.to_csv(\"data_manag_final_v.csv\")"
      ]
    },
    {
      "cell_type": "markdown",
      "id": "fbe49819",
      "metadata": {
        "id": "fbe49819"
      },
      "source": [
        "# Analyse descriptive de la base"
      ]
    },
    {
      "cell_type": "code",
      "execution_count": 257,
      "id": "339b0814",
      "metadata": {
        "colab": {
          "base_uri": "https://localhost:8080/"
        },
        "id": "339b0814",
        "outputId": "7073d4ee-f349-4c32-d093-8d55b5f43b00"
      },
      "outputs": [
        {
          "name": "stdout",
          "output_type": "stream",
          "text": [
            "Le nombre_total_dinfraction est 1066375\n"
          ]
        }
      ],
      "source": [
        "#Calcule du nombre total d'infractions\n",
        "nombre_total_dinfraction = data.shape[0]\n",
        "print(f\"Le nombre_total_dinfraction est {nombre_total_dinfraction}\")"
      ]
    },
    {
      "cell_type": "code",
      "execution_count": 258,
      "id": "824eb630",
      "metadata": {
        "colab": {
          "base_uri": "https://localhost:8080/"
        },
        "id": "824eb630",
        "outputId": "701342fe-f2cb-4d6c-859e-589ab086ea51"
      },
      "outputs": [
        {
          "name": "stdout",
          "output_type": "stream",
          "text": [
            "le nombre moyen dinfraction par an est 118486.11111111111\n"
          ]
        }
      ],
      "source": [
        "#calcule du nombre d'infraction moyen par ans dans la ville de Paris\n",
        "nombre_annee = 9\n",
        "nombre_dinfraction_moyen = nombre_total_dinfraction/nombre_annee\n",
        "print(f\"le nombre moyen dinfraction par an est {nombre_dinfraction_moyen}\")"
      ]
    },
    {
      "cell_type": "code",
      "execution_count": 259,
      "id": "de2037ee",
      "metadata": {
        "colab": {
          "base_uri": "https://localhost:8080/"
        },
        "id": "de2037ee",
        "outputId": "208fa341-ce42-47b7-f0e1-60fd1a014c47"
      },
      "outputs": [
        {
          "name": "stdout",
          "output_type": "stream",
          "text": [
            "arrondissement\n",
            "1        178\n",
            "2      20678\n",
            "3      20706\n",
            "4      20764\n",
            "5      20862\n",
            "6      41356\n",
            "7      51662\n",
            "8      31370\n",
            "9      41525\n",
            "10     72180\n",
            "11     82522\n",
            "12     62253\n",
            "13     62170\n",
            "14    103108\n",
            "15     93110\n",
            "16     62530\n",
            "17     72351\n",
            "18     82527\n",
            "19     51909\n",
            "20     72614\n",
            "Name: nouvel_identifiant, dtype: Int64\n"
          ]
        }
      ],
      "source": [
        "#Calcule du nombre d'infraction par arrondissement\n",
        "nombre_dinfraction_par_arrondissement= data.groupby(\"arrondissement\")[\"nouvel_identifiant\"].count()\n",
        "print(nombre_dinfraction_par_arrondissement)\n"
      ]
    },
    {
      "cell_type": "code",
      "execution_count": 260,
      "id": "ZCG-X6NBtp2A",
      "metadata": {
        "colab": {
          "base_uri": "https://localhost:8080/"
        },
        "id": "ZCG-X6NBtp2A",
        "outputId": "436d57ec-f544-49bd-e377-abbf2f3272ce"
      },
      "outputs": [
        {
          "name": "stdout",
          "output_type": "stream",
          "text": [
            "arrondissement\n",
            "1     7861.252809\n",
            "2      7347.91179\n",
            "3     7387.752197\n",
            "4     7388.191389\n",
            "5      7373.43759\n",
            "6     7374.740328\n",
            "7     7370.953931\n",
            "8     7410.893369\n",
            "9     7387.663937\n",
            "10    7360.578207\n",
            "11    7362.248564\n",
            "12    7370.485455\n",
            "13    7362.126411\n",
            "14    7368.480176\n",
            "15    7370.355569\n",
            "16    7393.941596\n",
            "17    7370.417686\n",
            "18    7361.675609\n",
            "19    7374.291433\n",
            "20    7366.452282\n",
            "Name: nouvel_identifiant, dtype: Float64\n"
          ]
        }
      ],
      "source": [
        "moyenne_infractions = data.groupby(\"arrondissement\")[\"nouvel_identifiant\"].mean()\n",
        "print(moyenne_infractions)"
      ]
    }
  ],
  "metadata": {
    "colab": {
      "provenance": []
    },
    "kernelspec": {
      "display_name": "Python 3 (ipykernel)",
      "language": "python",
      "name": "python3"
    },
    "language_info": {
      "codemirror_mode": {
        "name": "ipython",
        "version": 3
      },
      "file_extension": ".py",
      "mimetype": "text/x-python",
      "name": "python",
      "nbconvert_exporter": "python",
      "pygments_lexer": "ipython3",
      "version": "3.10.9"
    }
  },
  "nbformat": 4,
  "nbformat_minor": 5
}
